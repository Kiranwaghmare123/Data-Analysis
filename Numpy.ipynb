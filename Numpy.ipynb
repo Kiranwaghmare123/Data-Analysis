{
  "nbformat": 4,
  "nbformat_minor": 0,
  "metadata": {
    "colab": {
      "provenance": [],
      "authorship_tag": "ABX9TyO7fkaYuT4UtLZ1t3+AH5xu",
      "include_colab_link": true
    },
    "kernelspec": {
      "name": "python3",
      "display_name": "Python 3"
    },
    "language_info": {
      "name": "python"
    }
  },
  "cells": [
    {
      "cell_type": "markdown",
      "metadata": {
        "id": "view-in-github",
        "colab_type": "text"
      },
      "source": [
        "<a href=\"https://colab.research.google.com/github/Kiranwaghmare123/Data-Analysis/blob/main/Numpy.ipynb\" target=\"_parent\"><img src=\"https://colab.research.google.com/assets/colab-badge.svg\" alt=\"Open In Colab\"/></a>"
      ]
    },
    {
      "cell_type": "code",
      "execution_count": null,
      "metadata": {
        "id": "kSVdHzuuqyHi"
      },
      "outputs": [],
      "source": [
        "# Introduction to Numpy\n",
        "\n",
        "Numpy: Numerical Python\n",
        "-It is a package used for building muti dimensional arrays and performing various mathematical operations.\n",
        "-Installation: pip install numpy\n",
        "-Documentation: https://numpy.org/doc/stable/user/quickstart.html\n",
        "-Importing of numpy."
      ]
    },
    {
      "cell_type": "code",
      "source": [
        "import numpy as np"
      ],
      "metadata": {
        "id": "RhrrIKhzryyX"
      },
      "execution_count": null,
      "outputs": []
    },
    {
      "cell_type": "code",
      "source": [
        "#DataTypes\n",
        "#Numpy DataTypes\n",
        "\n",
        "# Data type\t  Description\n",
        "# bool_\t      Boolean (True or False) stored as a byte\n",
        "# int_\t      Default integer type (same as C long; normally either int64 or int32)\n",
        "# intc\t      Identical to C int (normally int32 or int64)\n",
        "# intp\t      Integer used for indexing (same as C ssize_t; normally either int32 or int64)\n",
        "# int8\t      Byte (-128 to 127)\n",
        "# int16\t      Integer (-32768 to 32767)\n",
        "# int32\t      Integer (-2147483648 to 2147483647)\n",
        "# int64\t      Integer (-9223372036854775808 to 9223372036854775807)\n",
        "# uint8\t      Unsigned integer (0 to 255)\n",
        "# uint16\t  Unsigned integer (0 to 65535)\n",
        "# uint32\t  Unsigned integer (0 to 4294967295)\n",
        "# uint64\t  Unsigned integer (0 to 18446744073709551615)\n",
        "# float_\t  Shorthand for float64.\n",
        "# float16\t  Half precision float: sign bit, 5 bits exponent, 10 bits mantissa\n",
        "# float32\t  Single precision float: sign bit, 8 bits exponent, 23 bits mantissa\n",
        "# float64\t  Double precision float: sign bit, 11 bits exponent, 52 bits mantissa\n",
        "# complex_\t  Shorthand for complex128.\n",
        "# complex64\t  Complex number, represented by two 32-bit floats (real and imaginary components)\n",
        "# complex128  Complex number, represented by two 64-bit floats (real and imaginary components)\n"
      ],
      "metadata": {
        "id": "bT_nH4cLr0yt"
      },
      "execution_count": null,
      "outputs": []
    },
    {
      "cell_type": "code",
      "source": [
        "#Data Strucutre\n",
        "-Boolean\n",
        "-Boolean and Logical operators\n",
        "-List\n",
        "-Comparision operators\n",
        "-Dictionaries\n",
        "-Tuples\n",
        "-Sets\n"
      ],
      "metadata": {
        "id": "WcTf8OjpsPc2"
      },
      "execution_count": null,
      "outputs": []
    },
    {
      "cell_type": "code",
      "source": [
        "#Boolean: 2 constant object True and False\n",
        "False"
      ],
      "metadata": {
        "colab": {
          "base_uri": "https://localhost:8080/"
        },
        "id": "NT8-3XghstEG",
        "outputId": "e53fc6b1-9e5f-46b9-8f00-41a453c9b4aa"
      },
      "execution_count": null,
      "outputs": [
        {
          "output_type": "execute_result",
          "data": {
            "text/plain": [
              "False"
            ]
          },
          "metadata": {},
          "execution_count": 3
        }
      ]
    },
    {
      "cell_type": "code",
      "source": [
        "True"
      ],
      "metadata": {
        "colab": {
          "base_uri": "https://localhost:8080/"
        },
        "id": "RqGHCruKs0Ig",
        "outputId": "8b860703-1c95-4aab-a0fd-7c0f124340e6"
      },
      "execution_count": null,
      "outputs": [
        {
          "output_type": "execute_result",
          "data": {
            "text/plain": [
              "True"
            ]
          },
          "metadata": {},
          "execution_count": 4
        }
      ]
    },
    {
      "cell_type": "code",
      "source": [
        "type(True)"
      ],
      "metadata": {
        "colab": {
          "base_uri": "https://localhost:8080/"
        },
        "id": "uFiuohDis1zc",
        "outputId": "bd36f607-3765-4724-c983-db44381db684"
      },
      "execution_count": null,
      "outputs": [
        {
          "output_type": "execute_result",
          "data": {
            "text/plain": [
              "bool"
            ]
          },
          "metadata": {},
          "execution_count": 5
        }
      ]
    },
    {
      "cell_type": "code",
      "source": [
        "my_string = \"Hello\"\n",
        "my_string"
      ],
      "metadata": {
        "colab": {
          "base_uri": "https://localhost:8080/",
          "height": 35
        },
        "id": "-e1PzD6zs5xB",
        "outputId": "14a9b979-a129-40f3-bdd8-ccba2b9c0f7b"
      },
      "execution_count": null,
      "outputs": [
        {
          "output_type": "execute_result",
          "data": {
            "text/plain": [
              "'Hello'"
            ],
            "application/vnd.google.colaboratory.intrinsic+json": {
              "type": "string"
            }
          },
          "metadata": {},
          "execution_count": 6
        }
      ]
    },
    {
      "cell_type": "code",
      "source": [
        "my_string.istitle()"
      ],
      "metadata": {
        "colab": {
          "base_uri": "https://localhost:8080/"
        },
        "id": "jHZ4ya9ktJR6",
        "outputId": "69229127-2bc6-47ec-8f94-d8f775fb7948"
      },
      "execution_count": null,
      "outputs": [
        {
          "output_type": "execute_result",
          "data": {
            "text/plain": [
              "True"
            ]
          },
          "metadata": {},
          "execution_count": 7
        }
      ]
    },
    {
      "cell_type": "code",
      "source": [
        "my_string = \"Hello World\"\n",
        "my_string.isalpha() # checking if all char in the string are alphbetic"
      ],
      "metadata": {
        "colab": {
          "base_uri": "https://localhost:8080/"
        },
        "id": "I64e4DmRtR21",
        "outputId": "6b755e01-1fec-45d4-aa6d-ad9f5899ae2a"
      },
      "execution_count": null,
      "outputs": [
        {
          "output_type": "execute_result",
          "data": {
            "text/plain": [
              "False"
            ]
          },
          "metadata": {},
          "execution_count": 8
        }
      ]
    },
    {
      "cell_type": "code",
      "source": [
        "my_string.isalnum() # checking if all char are numbers"
      ],
      "metadata": {
        "colab": {
          "base_uri": "https://localhost:8080/"
        },
        "id": "PjGzFGMKtd9D",
        "outputId": "db023b62-ed9e-4cfe-8785-dd2038fd197f"
      },
      "execution_count": null,
      "outputs": [
        {
          "output_type": "execute_result",
          "data": {
            "text/plain": [
              "False"
            ]
          },
          "metadata": {},
          "execution_count": 9
        }
      ]
    },
    {
      "cell_type": "code",
      "source": [
        "my_string.isdigit() # test if string contains digit"
      ],
      "metadata": {
        "colab": {
          "base_uri": "https://localhost:8080/"
        },
        "id": "yriYUg5LtxPk",
        "outputId": "a7ce8bba-07f1-4004-c0e4-a3c1d57578b2"
      },
      "execution_count": null,
      "outputs": [
        {
          "output_type": "execute_result",
          "data": {
            "text/plain": [
              "False"
            ]
          },
          "metadata": {},
          "execution_count": 10
        }
      ]
    },
    {
      "cell_type": "code",
      "source": [
        "my_string.isupper() # test if string contains upper case"
      ],
      "metadata": {
        "colab": {
          "base_uri": "https://localhost:8080/"
        },
        "id": "fZVQ_WdWt-m2",
        "outputId": "f3a38252-ad09-4787-b016-fb995ad3d2a2"
      },
      "execution_count": null,
      "outputs": [
        {
          "output_type": "execute_result",
          "data": {
            "text/plain": [
              "False"
            ]
          },
          "metadata": {},
          "execution_count": 11
        }
      ]
    },
    {
      "cell_type": "code",
      "source": [
        "my_string.islower() # test if string contains lower case\n"
      ],
      "metadata": {
        "colab": {
          "base_uri": "https://localhost:8080/"
        },
        "id": "Dk_NdTeQuJju",
        "outputId": "f5162738-cfa9-4c41-b70d-024737b0e58c"
      },
      "execution_count": null,
      "outputs": [
        {
          "output_type": "execute_result",
          "data": {
            "text/plain": [
              "False"
            ]
          },
          "metadata": {},
          "execution_count": 12
        }
      ]
    },
    {
      "cell_type": "code",
      "source": [
        "my_string1 = \"\"\n",
        "my_string1.isspace() # test if space is included"
      ],
      "metadata": {
        "colab": {
          "base_uri": "https://localhost:8080/"
        },
        "id": "24p-NKOwuSSD",
        "outputId": "60571d47-3233-428c-9b30-dc05fb250e4e"
      },
      "execution_count": null,
      "outputs": [
        {
          "output_type": "execute_result",
          "data": {
            "text/plain": [
              "False"
            ]
          },
          "metadata": {},
          "execution_count": 14
        }
      ]
    },
    {
      "cell_type": "code",
      "source": [
        "my_string.endswith('d')"
      ],
      "metadata": {
        "colab": {
          "base_uri": "https://localhost:8080/"
        },
        "id": "1L5qcGnNuaNQ",
        "outputId": "629359be-ca69-4139-d12a-d7165e558ba0"
      },
      "execution_count": null,
      "outputs": [
        {
          "output_type": "execute_result",
          "data": {
            "text/plain": [
              "True"
            ]
          },
          "metadata": {},
          "execution_count": 16
        }
      ]
    },
    {
      "cell_type": "code",
      "source": [
        "my_string.startswith('H')"
      ],
      "metadata": {
        "colab": {
          "base_uri": "https://localhost:8080/"
        },
        "id": "MOxp1RNNuu8A",
        "outputId": "69ecf97f-74d5-4b98-c48a-eec56fa4af2a"
      },
      "execution_count": null,
      "outputs": [
        {
          "output_type": "execute_result",
          "data": {
            "text/plain": [
              "True"
            ]
          },
          "metadata": {},
          "execution_count": 20
        }
      ]
    },
    {
      "cell_type": "code",
      "source": [
        "# Boolean and Logical operators\n",
        "True and True"
      ],
      "metadata": {
        "colab": {
          "base_uri": "https://localhost:8080/"
        },
        "id": "HxZZzlfau1qB",
        "outputId": "b6f3ccb1-0d28-49bc-89e4-8830b2cb336a"
      },
      "execution_count": null,
      "outputs": [
        {
          "output_type": "execute_result",
          "data": {
            "text/plain": [
              "True"
            ]
          },
          "metadata": {},
          "execution_count": 21
        }
      ]
    },
    {
      "cell_type": "code",
      "source": [
        "True and False"
      ],
      "metadata": {
        "colab": {
          "base_uri": "https://localhost:8080/"
        },
        "id": "1ywZHhcwu_lq",
        "outputId": "f1233204-be87-4473-e262-1f21512f2186"
      },
      "execution_count": null,
      "outputs": [
        {
          "output_type": "execute_result",
          "data": {
            "text/plain": [
              "False"
            ]
          },
          "metadata": {},
          "execution_count": 23
        }
      ]
    },
    {
      "cell_type": "code",
      "source": [
        "True or False"
      ],
      "metadata": {
        "colab": {
          "base_uri": "https://localhost:8080/"
        },
        "id": "eUw8VVG2vKQp",
        "outputId": "85bba6f6-8c6f-4732-ea81-6081f6d13a65"
      },
      "execution_count": null,
      "outputs": [
        {
          "output_type": "execute_result",
          "data": {
            "text/plain": [
              "True"
            ]
          },
          "metadata": {},
          "execution_count": 24
        }
      ]
    },
    {
      "cell_type": "code",
      "source": [
        "#List:  mutable, or changable, ordered sequence of element\n",
        "-Each element inside the list is called item.\n",
        "-If string are defined as character between quotes.\n",
        "-square brackets []"
      ],
      "metadata": {
        "id": "5k24H8tivU7f"
      },
      "execution_count": null,
      "outputs": []
    },
    {
      "cell_type": "code",
      "source": [
        "list = [1,2,3,4,5,6]\n",
        "list #Method1"
      ],
      "metadata": {
        "colab": {
          "base_uri": "https://localhost:8080/"
        },
        "id": "rN61f-yYwJaf",
        "outputId": "695472b6-c9b5-4905-d543-d8b131d837e5"
      },
      "execution_count": null,
      "outputs": [
        {
          "output_type": "execute_result",
          "data": {
            "text/plain": [
              "[1, 2, 3, 4, 5, 6]"
            ]
          },
          "metadata": {},
          "execution_count": 26
        }
      ]
    },
    {
      "cell_type": "code",
      "source": [
        "print(list) #Method 2"
      ],
      "metadata": {
        "colab": {
          "base_uri": "https://localhost:8080/"
        },
        "id": "d7BT61JewXBK",
        "outputId": "64dc5b61-fa94-4317-f0ab-5fd97dc4e29c"
      },
      "execution_count": null,
      "outputs": [
        {
          "output_type": "stream",
          "name": "stdout",
          "text": [
            "[1, 2, 3, 4, 5, 6]\n"
          ]
        }
      ]
    },
    {
      "cell_type": "code",
      "source": [
        "type([])"
      ],
      "metadata": {
        "colab": {
          "base_uri": "https://localhost:8080/"
        },
        "id": "NC0TiNUQwZa8",
        "outputId": "8525a3ed-1ae4-415a-ea56-1e5929db480f"
      },
      "execution_count": null,
      "outputs": [
        {
          "output_type": "execute_result",
          "data": {
            "text/plain": [
              "list"
            ]
          },
          "metadata": {},
          "execution_count": 28
        }
      ]
    },
    {
      "cell_type": "code",
      "source": [
        "lst = ['Maths','Chemistry', 100, 200, 300, 204.32]\n",
        "lst"
      ],
      "metadata": {
        "colab": {
          "base_uri": "https://localhost:8080/"
        },
        "id": "wKE8zGgjwm-J",
        "outputId": "4d59e874-d485-4403-f86a-331807b1dc1f"
      },
      "execution_count": null,
      "outputs": [
        {
          "output_type": "execute_result",
          "data": {
            "text/plain": [
              "['Maths', 'Chemistry', 100, 200, 300, 204.32]"
            ]
          },
          "metadata": {},
          "execution_count": 29
        }
      ]
    },
    {
      "cell_type": "code",
      "source": [
        "len(lst)"
      ],
      "metadata": {
        "colab": {
          "base_uri": "https://localhost:8080/"
        },
        "id": "FH6prWUUw6Ly",
        "outputId": "90ce1a62-bfbf-417f-f21d-f938b2f1fd74"
      },
      "execution_count": null,
      "outputs": [
        {
          "output_type": "execute_result",
          "data": {
            "text/plain": [
              "6"
            ]
          },
          "metadata": {},
          "execution_count": 30
        }
      ]
    },
    {
      "cell_type": "code",
      "source": [
        "# Append():used to add elements in the list\n",
        "lst.append('Aditya')\n",
        "lst"
      ],
      "metadata": {
        "colab": {
          "base_uri": "https://localhost:8080/"
        },
        "id": "pCW7G3ElxBvy",
        "outputId": "9a348ae3-4c44-400d-98b5-6cf50bb7c6c0"
      },
      "execution_count": null,
      "outputs": [
        {
          "output_type": "execute_result",
          "data": {
            "text/plain": [
              "['Maths',\n",
              " 'Chemistry',\n",
              " 100,\n",
              " 200,\n",
              " 300,\n",
              " 204.32,\n",
              " 'Aditya',\n",
              " 'Aditya',\n",
              " 'Aditya',\n",
              " 'Aditya']"
            ]
          },
          "metadata": {},
          "execution_count": 34
        }
      ]
    },
    {
      "cell_type": "code",
      "source": [
        "#insert(): use to insert an element at specific location\n",
        "lst.insert(2,'Python')\n",
        "lst"
      ],
      "metadata": {
        "colab": {
          "base_uri": "https://localhost:8080/"
        },
        "id": "rBFMVqXLxYTy",
        "outputId": "a3cdb7cd-3a8b-4bb5-e3c8-19ec90e5b1d8"
      },
      "execution_count": null,
      "outputs": [
        {
          "output_type": "execute_result",
          "data": {
            "text/plain": [
              "['Maths',\n",
              " 'Chemistry',\n",
              " 'Python',\n",
              " 100,\n",
              " 200,\n",
              " 300,\n",
              " 204.32,\n",
              " 'Aditya',\n",
              " 'Aditya',\n",
              " 'Aditya',\n",
              " 'Aditya']"
            ]
          },
          "metadata": {},
          "execution_count": 35
        }
      ]
    },
    {
      "cell_type": "code",
      "source": [
        "#Extend(): used to add some more elements\n",
        "lst.extend([8,9,121,456])\n",
        "lst"
      ],
      "metadata": {
        "colab": {
          "base_uri": "https://localhost:8080/"
        },
        "id": "pEq-sQmmx0mj",
        "outputId": "cd9f47b7-5b96-4bf2-f14b-a5f52d60155a"
      },
      "execution_count": null,
      "outputs": [
        {
          "output_type": "execute_result",
          "data": {
            "text/plain": [
              "['Maths',\n",
              " 'Chemistry',\n",
              " 'Python',\n",
              " 100,\n",
              " 200,\n",
              " 300,\n",
              " 204.32,\n",
              " 'Aditya',\n",
              " 'Aditya',\n",
              " 'Aditya',\n",
              " 'Aditya',\n",
              " 8,\n",
              " 9,\n",
              " 121,\n",
              " 456]"
            ]
          },
          "metadata": {},
          "execution_count": 36
        }
      ]
    },
    {
      "cell_type": "code",
      "source": [
        "#sum() :used to give the toatal sum\n",
        "lst1 = [1,2,3,4,5]\n",
        "sum(lst1)\n",
        "lst1"
      ],
      "metadata": {
        "colab": {
          "base_uri": "https://localhost:8080/"
        },
        "id": "QFhk_7Igyggu",
        "outputId": "423dd34e-2523-4531-dbc5-7ee29389cc2a"
      },
      "execution_count": null,
      "outputs": [
        {
          "output_type": "execute_result",
          "data": {
            "text/plain": [
              "[1, 2, 3, 4, 5]"
            ]
          },
          "metadata": {},
          "execution_count": 39
        }
      ]
    },
    {
      "cell_type": "code",
      "source": [
        "lst1 = sum(lst1)\n",
        "print(lst1)"
      ],
      "metadata": {
        "colab": {
          "base_uri": "https://localhost:8080/"
        },
        "id": "6pPBqI0wy3er",
        "outputId": "5e5e1f55-84a4-4518-d6c3-63a4731f004b"
      },
      "execution_count": null,
      "outputs": [
        {
          "output_type": "stream",
          "name": "stdout",
          "text": [
            "15\n"
          ]
        }
      ]
    },
    {
      "cell_type": "code",
      "source": [
        "lst1*5"
      ],
      "metadata": {
        "colab": {
          "base_uri": "https://localhost:8080/"
        },
        "id": "xzJK3A68zD03",
        "outputId": "affd944c-708f-45be-9d9d-f413fb1b2cca"
      },
      "execution_count": null,
      "outputs": [
        {
          "output_type": "execute_result",
          "data": {
            "text/plain": [
              "75"
            ]
          },
          "metadata": {},
          "execution_count": 41
        }
      ]
    },
    {
      "cell_type": "code",
      "source": [
        "#pop() : used for delete\n",
        "lst1 = [1,2,3,4,5]\n",
        "lst1 = lst1.pop()\n",
        "lst1"
      ],
      "metadata": {
        "colab": {
          "base_uri": "https://localhost:8080/"
        },
        "id": "quJHZaT_zGKd",
        "outputId": "5d49117b-85a8-4ec3-d0a9-ec4e9796a4ec"
      },
      "execution_count": null,
      "outputs": [
        {
          "output_type": "execute_result",
          "data": {
            "text/plain": [
              "5"
            ]
          },
          "metadata": {},
          "execution_count": 44
        }
      ]
    },
    {
      "cell_type": "code",
      "source": [
        "#count(): used to calculate the number of occurances\n",
        "lst = [1, 2, 3, 4, 5, 6,7,1,1]\n",
        "lst.count(1)"
      ],
      "metadata": {
        "colab": {
          "base_uri": "https://localhost:8080/"
        },
        "id": "3u5eq-MkzR4b",
        "outputId": "f4f7814a-28e0-40c8-e23a-f7f205b99935"
      },
      "execution_count": null,
      "outputs": [
        {
          "output_type": "execute_result",
          "data": {
            "text/plain": [
              "3"
            ]
          },
          "metadata": {},
          "execution_count": 45
        }
      ]
    },
    {
      "cell_type": "code",
      "source": [
        "#len(): used to calculate length of list\n",
        "len(lst)"
      ],
      "metadata": {
        "colab": {
          "base_uri": "https://localhost:8080/"
        },
        "id": "Tqy2D648zus3",
        "outputId": "b1f0c208-b925-45c8-b121-36f2e7afebfe"
      },
      "execution_count": null,
      "outputs": [
        {
          "output_type": "execute_result",
          "data": {
            "text/plain": [
              "9"
            ]
          },
          "metadata": {},
          "execution_count": 46
        }
      ]
    },
    {
      "cell_type": "code",
      "source": [
        "#index(): return the index of first ocuurence.\n",
        "# start and end index\n",
        "lst.index(3,1,3) # value, start, end"
      ],
      "metadata": {
        "colab": {
          "base_uri": "https://localhost:8080/"
        },
        "id": "016j6saEz572",
        "outputId": "ef21e4c9-dc06-4cdc-d8ea-29340d2ddffd"
      },
      "execution_count": null,
      "outputs": [
        {
          "output_type": "execute_result",
          "data": {
            "text/plain": [
              "2"
            ]
          },
          "metadata": {},
          "execution_count": 52
        }
      ]
    },
    {
      "cell_type": "code",
      "source": [
        "# min() and max()\n",
        "lst = [1,2,3,4,5,6,7,8,9,10]\n",
        "min(lst)"
      ],
      "metadata": {
        "colab": {
          "base_uri": "https://localhost:8080/"
        },
        "id": "2gQ8HCiT0OlD",
        "outputId": "8e844ca7-5a47-42b4-df1b-e41f897789c6"
      },
      "execution_count": null,
      "outputs": [
        {
          "output_type": "execute_result",
          "data": {
            "text/plain": [
              "1"
            ]
          },
          "metadata": {},
          "execution_count": 53
        }
      ]
    },
    {
      "cell_type": "code",
      "source": [
        "max(lst)"
      ],
      "metadata": {
        "colab": {
          "base_uri": "https://localhost:8080/"
        },
        "id": "h3szQjt80wkW",
        "outputId": "295d9f95-0b2f-48b9-83d9-13cdbdbc7637"
      },
      "execution_count": null,
      "outputs": [
        {
          "output_type": "execute_result",
          "data": {
            "text/plain": [
              "10"
            ]
          },
          "metadata": {},
          "execution_count": 54
        }
      ]
    }
  ]
}