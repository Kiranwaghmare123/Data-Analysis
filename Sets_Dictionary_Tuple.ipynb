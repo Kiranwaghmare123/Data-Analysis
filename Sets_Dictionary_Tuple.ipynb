{
  "nbformat": 4,
  "nbformat_minor": 0,
  "metadata": {
    "colab": {
      "provenance": [],
      "authorship_tag": "ABX9TyN23jG7J26O6jkJIU4Qii8D",
      "include_colab_link": true
    },
    "kernelspec": {
      "name": "python3",
      "display_name": "Python 3"
    },
    "language_info": {
      "name": "python"
    }
  },
  "cells": [
    {
      "cell_type": "markdown",
      "metadata": {
        "id": "view-in-github",
        "colab_type": "text"
      },
      "source": [
        "<a href=\"https://colab.research.google.com/github/Kiranwaghmare123/Data-Analysis/blob/main/Sets_Dictionary_Tuple.ipynb\" target=\"_parent\"><img src=\"https://colab.research.google.com/assets/colab-badge.svg\" alt=\"Open In Colab\"/></a>"
      ]
    },
    {
      "cell_type": "code",
      "source": [
        "#Sets: unordered collection data type that is iterable, mutable, and has no duplicate elements.\n",
        "# Sets are identified by {} or set()\n",
        "# based on data structure is hash table"
      ],
      "metadata": {
        "id": "iPAk5d2y-jeD"
      },
      "execution_count": null,
      "outputs": []
    },
    {
      "cell_type": "code",
      "source": [
        "set_var = set()\n",
        "set_var\n",
        "print(type(set_var))"
      ],
      "metadata": {
        "id": "blVpHY6B-kVM"
      },
      "execution_count": null,
      "outputs": []
    },
    {
      "cell_type": "code",
      "source": [
        "set = {1,2,3,4,5}\n",
        "set"
      ],
      "metadata": {
        "id": "QNsiAHrN-kg9"
      },
      "execution_count": null,
      "outputs": []
    },
    {
      "cell_type": "code",
      "source": [
        "set = {'Krutika', 'Shivani','Div'}"
      ],
      "metadata": {
        "id": "262JMPwX-sow"
      },
      "execution_count": null,
      "outputs": []
    },
    {
      "cell_type": "code",
      "execution_count": null,
      "metadata": {
        "colab": {
          "base_uri": "https://localhost:8080/"
        },
        "id": "pkpPmPKY3une",
        "outputId": "deb81c30-28ef-4e5e-d446-1cd636bac634"
      },
      "outputs": [
        {
          "output_type": "stream",
          "name": "stdout",
          "text": [
            "{'Banana', 'Apple', 'Papaya', 'Mango'}\n"
          ]
        }
      ],
      "source": [
        "#Union, intersection, difference\n",
        "set1 = {'Mango','Papaya','Apple'}\n",
        "Set2 = {'Apple','Banana'}\n",
        "Set3 = set1.union(Set2)\n",
        "print(Set3)"
      ]
    },
    {
      "cell_type": "code",
      "source": [
        "set4 = set1.intersection(Set2)\n",
        "set4"
      ],
      "metadata": {
        "colab": {
          "base_uri": "https://localhost:8080/"
        },
        "id": "kt7q_xie32kT",
        "outputId": "bdd40866-b81b-4d7c-a788-a83420634c09"
      },
      "execution_count": null,
      "outputs": [
        {
          "output_type": "execute_result",
          "data": {
            "text/plain": [
              "{'Apple'}"
            ]
          },
          "metadata": {},
          "execution_count": 7
        }
      ]
    },
    {
      "cell_type": "code",
      "source": [
        "set5 = Set2.difference(set1)\n",
        "set5"
      ],
      "metadata": {
        "colab": {
          "base_uri": "https://localhost:8080/"
        },
        "id": "R0K4_0ky4IGL",
        "outputId": "22080c96-d2c8-485c-b606-be299595bc52"
      },
      "execution_count": null,
      "outputs": [
        {
          "output_type": "execute_result",
          "data": {
            "text/plain": [
              "{'Banana'}"
            ]
          },
          "metadata": {},
          "execution_count": 8
        }
      ]
    },
    {
      "cell_type": "code",
      "source": [
        "#Dictionary: it is a collection which is unordered, changable, and indexed.\n",
        "# use {}\n",
        "# pair of key-values"
      ],
      "metadata": {
        "id": "8oAPEii24eSP"
      },
      "execution_count": null,
      "outputs": []
    },
    {
      "cell_type": "code",
      "source": [
        "dic = {}"
      ],
      "metadata": {
        "id": "gj0ezid74z-Q"
      },
      "execution_count": null,
      "outputs": []
    },
    {
      "cell_type": "code",
      "source": [
        "type(dic)"
      ],
      "metadata": {
        "colab": {
          "base_uri": "https://localhost:8080/"
        },
        "id": "tLSKSV7U42wl",
        "outputId": "6ab6f1af-c5d4-4621-f132-b6f6f2861a1f"
      },
      "execution_count": null,
      "outputs": [
        {
          "output_type": "execute_result",
          "data": {
            "text/plain": [
              "dict"
            ]
          },
          "metadata": {},
          "execution_count": 10
        }
      ]
    },
    {
      "cell_type": "code",
      "source": [
        "set = {1,2,3,4,5}\n",
        "type(set)"
      ],
      "metadata": {
        "colab": {
          "base_uri": "https://localhost:8080/"
        },
        "id": "qSeYzkKv44zP",
        "outputId": "0a90abd6-3748-4c34-fae7-e4540fb538c8"
      },
      "execution_count": null,
      "outputs": [
        {
          "output_type": "execute_result",
          "data": {
            "text/plain": [
              "set"
            ]
          },
          "metadata": {},
          "execution_count": 11
        }
      ]
    },
    {
      "cell_type": "code",
      "source": [
        "dict = {'a':1,'b':2,'c':3,'d':4}\n",
        "dict"
      ],
      "metadata": {
        "colab": {
          "base_uri": "https://localhost:8080/"
        },
        "id": "PsaT3dQW5AOQ",
        "outputId": "9bed95ef-d41c-409f-a78f-6ebbe0708295"
      },
      "execution_count": null,
      "outputs": [
        {
          "output_type": "execute_result",
          "data": {
            "text/plain": [
              "{'a': 1, 'b': 2, 'c': 3, 'd': 4}"
            ]
          },
          "metadata": {},
          "execution_count": 12
        }
      ]
    },
    {
      "cell_type": "code",
      "source": [
        "my_dict = {'car1':\"Audi\",'car2':\"BMW\",'car3':\"Mercedez\"}\n",
        "my_dict"
      ],
      "metadata": {
        "colab": {
          "base_uri": "https://localhost:8080/"
        },
        "id": "alsgw7yv5OIn",
        "outputId": "4118ee3d-b0d6-4d6e-fe9e-6c141e28effe"
      },
      "execution_count": null,
      "outputs": [
        {
          "output_type": "execute_result",
          "data": {
            "text/plain": [
              "{'car1': 'Audi', 'car2': 'BMW', 'car3': 'Mercedez'}"
            ]
          },
          "metadata": {},
          "execution_count": 13
        }
      ]
    },
    {
      "cell_type": "code",
      "source": [
        "my_dict['car1']"
      ],
      "metadata": {
        "colab": {
          "base_uri": "https://localhost:8080/",
          "height": 35
        },
        "id": "5Le78xfa5283",
        "outputId": "142d06e9-2307-4150-b541-6b34b5cd232b"
      },
      "execution_count": null,
      "outputs": [
        {
          "output_type": "execute_result",
          "data": {
            "text/plain": [
              "'Audi'"
            ],
            "application/vnd.google.colaboratory.intrinsic+json": {
              "type": "string"
            }
          },
          "metadata": {},
          "execution_count": 14
        }
      ]
    },
    {
      "cell_type": "code",
      "source": [
        "for x in my_dict:\n",
        "    print(x)"
      ],
      "metadata": {
        "colab": {
          "base_uri": "https://localhost:8080/"
        },
        "id": "LN5TLW-Y58sK",
        "outputId": "5902809d-121d-4710-bb42-2c77fafb0948"
      },
      "execution_count": null,
      "outputs": [
        {
          "output_type": "stream",
          "name": "stdout",
          "text": [
            "car1\n",
            "car2\n",
            "car3\n"
          ]
        }
      ]
    },
    {
      "cell_type": "code",
      "source": [
        "for x in my_dict.values():\n",
        "    print(x)"
      ],
      "metadata": {
        "colab": {
          "base_uri": "https://localhost:8080/"
        },
        "id": "ZdLWf7WU6Jdq",
        "outputId": "b60834c3-12f6-4b74-dd76-d404a73941f3"
      },
      "execution_count": null,
      "outputs": [
        {
          "output_type": "stream",
          "name": "stdout",
          "text": [
            "Audi\n",
            "BMW\n",
            "Mercedez\n"
          ]
        }
      ]
    },
    {
      "cell_type": "code",
      "source": [
        "for x in my_dict.items():\n",
        "    print(x)"
      ],
      "metadata": {
        "colab": {
          "base_uri": "https://localhost:8080/"
        },
        "id": "8iPVW01J6QXY",
        "outputId": "f3adb9c9-446b-4c25-af0d-7d6fe05c034e"
      },
      "execution_count": null,
      "outputs": [
        {
          "output_type": "stream",
          "name": "stdout",
          "text": [
            "('car1', 'Audi')\n",
            "('car2', 'BMW')\n",
            "('car3', 'Mercedez')\n"
          ]
        }
      ]
    },
    {
      "cell_type": "code",
      "source": [
        "#Ex:  Nested Dictionary\n",
        "\n",
        "car1_model = {'Audi': 1960}\n",
        "car2_model = {'BMW': 1970}\n",
        "car3_model = {'Mercedez': 1980}\n",
        "\n",
        "car_type = {'car1': car1_model,'car2':car2_model,'car3':car3_model}\n",
        "car_type"
      ],
      "metadata": {
        "colab": {
          "base_uri": "https://localhost:8080/"
        },
        "id": "JoOveY3j6evC",
        "outputId": "2c432a89-7de5-45b1-82db-b85456cc8eaa"
      },
      "execution_count": null,
      "outputs": [
        {
          "output_type": "execute_result",
          "data": {
            "text/plain": [
              "{'car1': {'Audi': 1960}, 'car2': {'BMW': 1970}, 'car3': {'Mercedez': 1980}}"
            ]
          },
          "metadata": {},
          "execution_count": 21
        }
      ]
    },
    {
      "cell_type": "code",
      "source": [
        "#Tuple:()\n",
        "#Tuple is immutable\n",
        "my_tuple = tuple((1,2,3,4,5))\n",
        "my_tuple"
      ],
      "metadata": {
        "colab": {
          "base_uri": "https://localhost:8080/"
        },
        "id": "jMUNEOO57Nz7",
        "outputId": "e47b5fb8-ff92-46cb-bcde-ad4af70975cf"
      },
      "execution_count": null,
      "outputs": [
        {
          "output_type": "execute_result",
          "data": {
            "text/plain": [
              "(1, 2, 3, 4, 5)"
            ]
          },
          "metadata": {},
          "execution_count": 22
        }
      ]
    },
    {
      "cell_type": "code",
      "source": [
        "my_tuple[0]"
      ],
      "metadata": {
        "colab": {
          "base_uri": "https://localhost:8080/"
        },
        "id": "qPS8LnCU7w7X",
        "outputId": "1243e501-d5c4-4790-f223-23fbb4bee2db"
      },
      "execution_count": null,
      "outputs": [
        {
          "output_type": "execute_result",
          "data": {
            "text/plain": [
              "1"
            ]
          },
          "metadata": {},
          "execution_count": 23
        }
      ]
    },
    {
      "cell_type": "code",
      "source": [
        "my_tuple = ('Hello','World')\n",
        "my_tuple"
      ],
      "metadata": {
        "colab": {
          "base_uri": "https://localhost:8080/"
        },
        "id": "4f5xDoNw74tO",
        "outputId": "39b07acd-821b-41e8-c44a-cac49e373482"
      },
      "execution_count": null,
      "outputs": [
        {
          "output_type": "execute_result",
          "data": {
            "text/plain": [
              "('Hello', 'World')"
            ]
          },
          "metadata": {},
          "execution_count": 24
        }
      ]
    },
    {
      "cell_type": "code",
      "source": [
        "type(my_tuple)"
      ],
      "metadata": {
        "colab": {
          "base_uri": "https://localhost:8080/"
        },
        "id": "QCRpt5j_8A6e",
        "outputId": "7951d1e3-a564-44cc-edef-9874da05eec0"
      },
      "execution_count": null,
      "outputs": [
        {
          "output_type": "execute_result",
          "data": {
            "text/plain": [
              "tuple"
            ]
          },
          "metadata": {},
          "execution_count": 25
        }
      ]
    },
    {
      "cell_type": "code",
      "source": [],
      "metadata": {
        "id": "0Qjj9vph8E8g"
      },
      "execution_count": null,
      "outputs": []
    }
  ]
}